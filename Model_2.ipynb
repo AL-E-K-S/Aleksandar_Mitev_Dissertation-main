{
 "cells": [
  {
   "cell_type": "code",
   "execution_count": 60,
   "metadata": {},
   "outputs": [
    {
     "data": {
      "image/png": "[encoded data removed]",
      "text/plain": [
       "<Figure size 2000x1000 with 1 Axes>"
      ]
     },
     "metadata": {},
     "output_type": "display_data"
    }
   ],
   "source": [
    "import torch.nn.functional as F\n",
    "import torch.nn as layers\n",
    "import torch.optim as optimizers\n",
    "import torch\n",
    "import pandas as pd\n",
    "import numpy as np\n",
    "import matplotlib.pyplot as plt\n",
    "from sklearn.metrics import confusion_matrix, ConfusionMatrixDisplay\n",
    "from videoDataLoaderTest import dataset\n",
    "from torch.utils.data import DataLoader, Dataset\n",
    "import seaborn as sn\n",
    "import time\n",
    "import csv\n",
    "import os\n",
    "from plot_confusion_matrix import plot_confusion_matrix\n",
    "import matplotlib.pyplot as plt \n",
    "\n",
    "\n",
    "from Regular_3D_2D_Hybrid_Extra_Conv2d import Regular_Plus_2dModel\n",
    "from ELU_3D_2D_Hybrid_Extra_Conv2d import ELU_Plus_2dModel\n",
    "from ELU_3D_2D_Hybrid import ELUModel\n",
    "\n",
    "\n",
    "class Hybrid_3D_2D(layers.Module): # layers.Module is what the Hybrid_3D_2d will inherit methods from\n",
    "    # Input layers.Module \n",
    "    #\n",
    "    #\n",
    "    #\n",
    "    # Output\n",
    "    def __init__(self):\n",
    "        # Input self \n",
    "        #\n",
    "        #\n",
    "        # \n",
    "        # Output \n",
    "\n",
    "        super(Hybrid_3D_2D, self).__init__() # \n",
    "        \n",
    "        self.cn1 = layers.Conv3d(in_channels = 30,out_channels = 8,kernel_size = 7, padding = 3) # the images are in  coluor channel and 29 tensors \n",
    "        self.cn2 = layers.Conv3d(in_channels = 8,out_channels = 16,kernel_size = 5, padding = 2)\n",
    "        self.cn3 = layers.Conv3d(in_channels = 16,out_channels=32, kernel_size = 3, padding = 1)\n",
    "        \n",
    "        self.cn1_additional = layers.Conv3d(in_channels = 32,out_channels=64, kernel_size = 3, padding = 1)\n",
    "        self.cn2_additional = layers.Conv3d(in_channels = 64,out_channels=128, kernel_size = 3, padding = 1)\n",
    "        self.cn3_additional = layers.Conv3d(in_channels = 128,out_channels=256, kernel_size = 3, padding = 1)\n",
    "        self.cn4_2d = layers.Conv2d(in_channels = 256, out_channels = 64, kernel_size = 3, padding = 1) # padding for new layers need to be calculated \n",
    "\n",
    "        # size > reduce the input from 3d > 2d layer\n",
    "        # 2d layer output to be flattened \n",
    "        \n",
    "        self.dropout5 = layers.Dropout(0.4)\n",
    "        self.fc5 = layers.Linear(64 * 64 * 64 ,256)\n",
    "        #dropout > 0.4\n",
    "        self.dropout6 = layers.Dropout(0.4)\n",
    "        self.fc6 = layers.Linear(256,128)\n",
    "        self.fc7 = layers.Linear(128,2)\n",
    "        #dropout > 0.4\n",
    "\n",
    "    def forward(self,x):\n",
    "\n",
    "        output = self.cn1(x)\n",
    "        output = F.relu(output)\n",
    "\n",
    "        \n",
    "        output = self.cn2(output)\n",
    "        output = F.relu(output)\n",
    "\n",
    "        \n",
    "        output = self.cn3(output)\n",
    "        output = F.relu(output) # activaltion function\n",
    "\n",
    "        output = self.cn1_additional(output)\n",
    "        output = F.relu(output) # activaltion function\n",
    "\n",
    "        output = self.cn2_additional(output)\n",
    "        output = F.relu(output) # activaltion function\n",
    "\n",
    "        output = self.cn3_additional(output)\n",
    "        output = F.relu(output) # activaltion function\n",
    "    \n",
    "        \n",
    "        output = output.reshape(output.size(0), 256,64,64) \n",
    "        \n",
    "        \n",
    "        output = self.cn4_2d(output)\n",
    "        \n",
    "        output = F.relu(output)\n",
    "        \n",
    "\n",
    "        output = output.flatten(start_dim=1) # flattens output so that it can be fed into the linear layer\n",
    "\n",
    "        output = self.fc5(output)\n",
    "        output = F.relu(output)\n",
    "        output = self.dropout5(output)\n",
    "\n",
    "\n",
    "        output = self.fc6(output)\n",
    "        output = F.relu(output)\n",
    "        output = self.dropout6(output)\n",
    "        \n",
    "\n",
    "        output = self.fc7(output) \n",
    "\n",
    "        return output\n",
    "\n",
    " \n",
    "y_loss = {}  # loss history\n",
    "y_loss['train'] = []\n",
    "y_loss['val'] = []\n",
    "y_err = {}\n",
    "y_err['train'] = []\n",
    "y_err['val'] = []\n",
    "\n",
    "x_epoch = []\n",
    "fig = plt.figure(figsize=(20,10))\n",
    "ax0 = fig.add_subplot(121, title=\"Training Loss - Model 2\") \n",
    "plt.ylabel('Loss')\n",
    "plt.xlabel(\"Epochs\")\n",
    "\n",
    "\n",
    "def draw_curve_for_model_2_(current_epoch):\n",
    "    x_epoch.append(current_epoch)\n",
    "    ax0.plot(x_epoch, y_loss['train'], 'bo-', label='Training Loss')\n",
    "    if current_epoch == 0:\n",
    "        ax0.legend()\n",
    "        \n",
    "    fig.savefig(os.path.join('./lossGraphs', 'train_loss_model_2.jpg'))\n",
    "\n",
    "\n",
    "\n",
    "def train(model,device,the_dataloader, optim,epochs,dataset_size,phase,batch_size):\n",
    "    \n",
    "    training_data_predictions = torch.tensor([]) # creates a tensor for storing the predictions of teh model \n",
    "    training_data_actual_values = torch.tensor([])\n",
    "    \n",
    "    \n",
    "    model.train() # setd the model to training mode \n",
    "    \n",
    "    for epoch in range(epochs):\n",
    "\n",
    "\n",
    "        running_loss = 0.0 # sets loss for this epoch to 0\n",
    "        running_corrects = 0.0 # sets actual truths to 0 for this epoch\n",
    "\n",
    "        print(\"Current epoch\" + str(epoch))\n",
    "\n",
    "        #start_time = time.time()\n",
    "\n",
    "        loss_list = []    \n",
    "        batch_list = []\n",
    "\n",
    "        predicted_y = []\n",
    "        actual_y = []\n",
    "\n",
    "        for batch_index, (X,y) in enumerate(the_dataloader):\n",
    "            #X,y = X.to(device), y.to(device) # X is the input y is teh ground truth\n",
    "            \n",
    "            optim.zero_grad() # sets the gradients to 0 \n",
    "            prediction = model(X) # gets the predictions made by teh model\n",
    "            \n",
    "            training_data_predictions = torch.cat((training_data_predictions, prediction),dim=0) # combines the predictions of the model for this batch and the ones from before\n",
    "            training_data_actual_values = torch.cat((training_data_actual_values, y),dim=0) # adds the tensors with the actual values\n",
    "\n",
    "            \n",
    "            # parts of code below adapted from \n",
    "            if X.size == 4:\n",
    "                current_batch_size, channels, height, width = X.shape\n",
    "            else:\n",
    "                current_batch_size, framesFed ,channels, height, width = X.shape\n",
    "\n",
    "\n",
    "            if current_batch_size < batch_size: # skips smaller batch to plot the graph\n",
    "                continue\n",
    "\n",
    "\n",
    "            _, preds = torch.max(prediction.data, 1)\n",
    "            loss = layers.CrossEntropyLoss()\n",
    "\n",
    "            \n",
    "            loss_result = loss(prediction,y) # to be chenged to a different one since it does softmax \n",
    "            \n",
    "            \n",
    "            del X\n",
    "\n",
    "            \n",
    "            #loss =  # calculates the loss\n",
    "\n",
    "            loss_result.backward() # updates the weights \n",
    "            optim.step() # \n",
    "            \n",
    "            running_loss+=loss_result.item() * current_batch_size\n",
    "\n",
    "            del loss\n",
    "            running_corrects+=float(torch.sum(preds == y.data))\n",
    "             \n",
    "            \n",
    "            if (batch_index*30) % 30 == 0: # \n",
    "                print(batch_index)\n",
    "                training_result_format = 'batch:({:.0f})|loss:({:.4f}) '.format(batch_index,loss_result)\n",
    "                print(training_result_format)\n",
    "\n",
    "    epoch_loss = running_loss/dataset_size # ;loss fpr this epoch\n",
    "    epoch_acc = running_corrects / dataset_size # \n",
    "    y_loss[phase].append(epoch_loss)\n",
    "    y_err[phase].append(1.0  - epoch_acc)\n",
    "\n",
    "    draw_curve_for_model_2_(epoch)\n",
    "\n",
    "\n",
    "    return model,training_data_predictions,training_data_actual_values\n",
    "\n",
    "def test(model,device,the_dataloader, optim,epochs,dataset_size,phase,batch_size):\n",
    "\n",
    "    testing_data_predictions = torch.tensor([]) # creates a tensor for storing the predictions of teh model \n",
    "    testing_data_actual_values = torch.tensor([])\n",
    "    \n",
    "    start_time = time.time()\n",
    "\n",
    "    for batch_index, (X,y) in enumerate(the_dataloader):\n",
    "        model.eval()\n",
    "        \n",
    "        torch.no_grad()\n",
    "\n",
    "        prediction = model(X) # gets the predictions made by teh model\n",
    "        testing_data_predictions = torch.cat((testing_data_predictions, prediction),dim=0) # combines the predictions of the model for this batch and the ones from before\n",
    "        testing_data_actual_values = torch.cat((testing_data_actual_values, y),dim=0) # adds the tensors with the actual values\n",
    "\n",
    "        # parts of code below adapted from \n",
    "        if X.size == 4:\n",
    "            current_batch_size, channels, height, width = X.shape\n",
    "        else:\n",
    "            current_batch_size, framesFed ,channels, height, width = X.shape\n",
    "        if current_batch_size < batch_size: # skips smaller batch to plot the graph\n",
    "            continue\n",
    "        _, preds = torch.max(prediction.data, 1)\n",
    "        \n",
    "        loss = layers.CrossEntropyLoss()\n",
    "        \n",
    "        loss_result = loss(prediction,y) # to be chenged to a different one since it does softmax \n",
    "        \n",
    "        if (batch_index*30) % 30 == 0: # \n",
    "            print(batch_index)\n",
    "            testing_result_format = 'batch:({:.0f})|loss:({:.4f}) '.format(batch_index,loss_result)\n",
    "            print(testing_result_format)\n",
    "\n",
    "        end_time = time.time()\n",
    "        execution_time = end_time - start_time\n",
    "        Regular_3D_2D_Hybrid_Time = open(('Model_1_Test_Time/time_file.txt'), \"w\" ) \n",
    "        Regular_3D_2D_Hybrid_Time.write(\"Testing time:\" + str(execution_time) + \"s\" + \"\\n\") \n",
    "        Regular_3D_2D_Hybrid_Time.close()\n",
    "\n",
    "    return model,testing_data_predictions,testing_data_actual_values\n",
    "\n",
    "\n",
    "\n",
    "ReLUModel = Hybrid_3D_2D()\n",
    "\n",
    "optim = optimizers.SGD(ReLUModel.parameters(),lr=0.00025)# transfer learning paper > used 0.0005 for transfer learning \n",
    "\n",
    "\n",
    "training_data, testing_data = torch.utils.data.random_split(dataset, [42,18])\n",
    "\n",
    "torch.manual_seed(65) # by setting a seed all random numbers generated can be made the same for all models\n",
    "\n",
    "load_training_data = DataLoader(dataset=training_data, batch_size=12, shuffle=3) \n",
    "load_testing_data = DataLoader(dataset=testing_data, batch_size=12, shuffle=3)\n"
   ]
  },
  {
   "cell_type": "code",
   "execution_count": 61,
   "metadata": {},
   "outputs": [
    {
     "name": "stdout",
     "output_type": "stream",
     "text": [
      "Current epoch0\n",
      "0\n",
      "batch:(0)|loss:(0.6947) \n",
      "1\n",
      "batch:(1)|loss:(0.6929) \n",
      "2\n",
      "batch:(2)|loss:(0.6915) \n"
     ]
    }
   ],
   "source": [
    "training_results = train(ReLUModel, 'cpu',load_training_data,optim,1,len(training_data),'train',batch_size=12) "
   ]
  },
  {
   "cell_type": "code",
   "execution_count": 62,
   "metadata": {},
   "outputs": [
    {
     "name": "stdout",
     "output_type": "stream",
     "text": [
      "0\n",
      "batch:(0)|loss:(0.6932) \n"
     ]
    },
    {
     "data": {
      "text/plain": [
       "<Figure size 1000x1000 with 0 Axes>"
      ]
     },
     "execution_count": 62,
     "metadata": {},
     "output_type": "execute_result"
    },
    {
     "data": {
      "text/plain": [
       "<Figure size 1000x1000 with 0 Axes>"
      ]
     },
     "metadata": {},
     "output_type": "display_data"
    }
   ],
   "source": [
    "the_trained_3D_2D_Hybrid = training_results[0]\n",
    "\n",
    "\n",
    "test_results = test(the_trained_3D_2D_Hybrid, 'cpu',load_testing_data,optim,1,len(testing_data),'val',batch_size=12) \n",
    "\n",
    "training_predictions = (training_results[1]).detach().argmax(dim=1)\n",
    "training_data_actual_values = (training_results[2])\n",
    "\n",
    "classes = [\"No Violence\",\"Violence\"]\n",
    "\n",
    "confusion_mat = confusion_matrix(training_predictions,training_data_actual_values)\n",
    "plt.figure(figsize=(10,10))"
   ]
  },
  {
   "cell_type": "code",
   "execution_count": 63,
   "metadata": {},
   "outputs": [
    {
     "name": "stdout",
     "output_type": "stream",
     "text": [
      "[[16 11]\n",
      " [ 6  9]]\n",
      "<class 'numpy.ndarray'>\n"
     ]
    },
    {
     "data": {
      "text/plain": [
       "<Figure size 1000x1000 with 0 Axes>"
      ]
     },
     "execution_count": 63,
     "metadata": {},
     "output_type": "execute_result"
    },
    {
     "data": {
      "image/png": "[encoded data removed]",
      "text/plain": [
       "<Figure size 640x480 with 2 Axes>"
      ]
     },
     "metadata": {},
     "output_type": "display_data"
    },
    {
     "data": {
      "text/plain": [
       "<Figure size 1000x1000 with 0 Axes>"
      ]
     },
     "metadata": {},
     "output_type": "display_data"
    }
   ],
   "source": [
    "## Model Confusion Matrix Plotting Section\n",
    "plot_confusion_matrix(confusion_mat,classes,title='Confusion Matrix ')\n",
    "\n",
    "print(type(confusion_mat))\n",
    "\n",
    "\n",
    "plt.figure(figsize=(10,10))\n",
    "\n",
    "\n",
    "## end of Plotting Section"
   ]
  },
  {
   "cell_type": "code",
   "execution_count": 64,
   "metadata": {},
   "outputs": [],
   "source": [
    "testing_predictions = (test_results[1]).detach().argmax(dim=1)\n",
    "testing_data_actual_values = (test_results[2])\n",
    "\n",
    "classes = [\"No Violence\",\"Violence\"]\n",
    "\n",
    "confusion_mat = confusion_matrix(testing_predictions,testing_data_actual_values)"
   ]
  },
  {
   "cell_type": "code",
   "execution_count": 65,
   "metadata": {},
   "outputs": [
    {
     "name": "stdout",
     "output_type": "stream",
     "text": [
      "[[ 8 10]\n",
      " [ 0  0]]\n",
      "<class 'numpy.ndarray'>\n"
     ]
    },
    {
     "data": {
      "image/png": "[encoded data removed]",
      "text/plain": [
       "<Figure size 640x480 with 2 Axes>"
      ]
     },
     "metadata": {},
     "output_type": "display_data"
    },
    {
     "data": {
      "text/plain": [
       "<Figure size 1000x1000 with 0 Axes>"
      ]
     },
     "metadata": {},
     "output_type": "display_data"
    }
   ],
   "source": [
    "## Model Confusion Matrix Plotting Section\n",
    "plot_confusion_matrix(confusion_mat,classes,title='Confusion Matrix ')\n",
    "\n",
    "print(type(confusion_mat))\n",
    "\n",
    "plt.figure(figsize=(10,10))\n",
    "plt.savefig(os.path.join('./Confusion Matrices', 'reg_model_confuse_matrix2.jpg'))\n",
    "\n",
    "## end of Plotting Section"
   ]
  },
  {
   "cell_type": "code",
   "execution_count": 66,
   "metadata": {},
   "outputs": [
    {
     "ename": "TypeError",
     "evalue": "train() missing 3 required positional arguments: 'dataset_size', 'phase', and 'batch_size'",
     "output_type": "error",
     "traceback": [
      "\u001b[1;31m---------------------------------------------------------------------------\u001b[0m",
      "\u001b[1;31mTypeError\u001b[0m                                 Traceback (most recent call last)",
      "\u001b[1;32mc:\\Users\\Aleks\\Desktop\\Results_Code\\Model_2.ipynb Cell 7\u001b[0m in \u001b[0;36m1\n\u001b[1;32m----> <a href='vscode-notebook-cell:/c%3A/Users/Aleks/Desktop/Results_Code/Model_2.ipynb#W6sZmlsZQ%3D%3D?line=0'>1</a>\u001b[0m pretrained3D_2D_Hybrid_Regular_Plus_2d \u001b[39m=\u001b[39m train(Regular_Plus_2dModel, \u001b[39m'\u001b[39;49m\u001b[39mcpu\u001b[39;49m\u001b[39m'\u001b[39;49m,load_training_data,optim,epochs\u001b[39m=\u001b[39;49m\u001b[39m1\u001b[39;49m) \u001b[39m# ?\u001b[39;00m\n\u001b[0;32m      <a href='vscode-notebook-cell:/c%3A/Users/Aleks/Desktop/Results_Code/Model_2.ipynb#W6sZmlsZQ%3D%3D?line=2'>3</a>\u001b[0m test(pretrained3D_2D_Hybrid_Regular_Plus_2d, \u001b[39m'\u001b[39m\u001b[39mcpu\u001b[39m\u001b[39m'\u001b[39m,load_testing_data)\n\u001b[0;32m      <a href='vscode-notebook-cell:/c%3A/Users/Aleks/Desktop/Results_Code/Model_2.ipynb#W6sZmlsZQ%3D%3D?line=4'>5</a>\u001b[0m torch\u001b[39m.\u001b[39msave(pretrained3D_2D_Hybrid_Regular_Plus_2d,\u001b[39m\"\u001b[39m\u001b[39mpretrained3D_2D_HybridWeights_Regular_Plus_2d.pt\u001b[39m\u001b[39m\"\u001b[39m) \u001b[39m# creates a file for saving the trained model \u001b[39;00m\n",
      "\u001b[1;31mTypeError\u001b[0m: train() missing 3 required positional arguments: 'dataset_size', 'phase', and 'batch_size'"
     ]
    }
   ],
   "source": []
  }
 ],
 "metadata": {
  "kernelspec": {
   "display_name": "Python 3",
   "language": "python",
   "name": "python3"
  },
  "language_info": {
   "codemirror_mode": {
    "name": "ipython",
    "version": 3
   },
   "file_extension": ".py",
   "mimetype": "text/x-python",
   "name": "python",
   "nbconvert_exporter": "python",
   "pygments_lexer": "ipython3",
   "version": "3.10.2"
  },
  "orig_nbformat": 4
 },
 "nbformat": 4,
 "nbformat_minor": 2
}
